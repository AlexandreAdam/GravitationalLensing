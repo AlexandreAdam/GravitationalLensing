{
 "cells": [
  {
   "cell_type": "code",
   "execution_count": 29,
   "metadata": {},
   "outputs": [],
   "source": [
    "import numpy as np\n",
    "from astropy.constants import c, G, M_sun\n",
    "from astropy.cosmology import Planck15\n",
    "from scipy.constants import pi\n",
    "import astropy.units as u\n",
    "from scipy.integrate import quad\n",
    "from scipy.interpolate import griddata\n",
    "import matplotlib.pyplot as plt\n",
    "%matplotlib inline"
   ]
  },
  {
   "cell_type": "code",
   "execution_count": 37,
   "metadata": {},
   "outputs": [
    {
     "data": {
      "text/latex": [
       "$3001.9354 \\; \\mathrm{\\frac{1}{pc^{2}}}$"
      ],
      "text/plain": [
       "<Quantity 3001.93535935 1 / pc2>"
      ]
     },
     "execution_count": 37,
     "metadata": {},
     "output_type": "execute_result"
    }
   ],
   "source": [
    "# constants\n",
    "pixels = 256\n",
    "src_length = 3.0\n",
    "kappa_length = 8\n",
    "sigma_v = 75 * u.km / u.s # Milky way velocity dispersion\n",
    "x_c = 0.1\n",
    "cosmo = Planck15\n",
    "z_lens = 0.5 \n",
    "z_src = 1\n",
    "DL = cosmo.angular_diameter_distance(z_lens)\n",
    "DLS = cosmo.angular_diameter_distance_z1z2(z_lens, z_src)\n",
    "DS = cosmo.angular_diameter_distance(z_src)\n",
    "xi_0 = (4 * pi * (sigma_v / c)**2 * DL * DLS / DS).to(u.pc)\n",
    "Sigma_cr = (c**2 / 4 / pi / G * DS / DL / DLS).to(u.kg / u.pc**2)\n",
    "Sigma_cr / M_sun\n"
   ]
  },
  {
   "cell_type": "markdown",
   "metadata": {},
   "source": [
    "# Sopthened Singular Isothermal Sphere profile\n",
    "\n",
    "$$\n",
    "    \\rho(r) = \\frac{\\sigma_V^2}{2 \\pi G r^2}\n",
    "$$\n",
    "So the surface density profile is (by the Born approximation)\n",
    "$$\n",
    "\\begin{align}\n",
    "    \\Sigma(\\xi) &= \\frac{\\sigma_v^2}{2 \\pi G} \\int_{-\\infty}^\\infty \\frac{dz}{\\xi^2 + dz^2} \\\\\n",
    "            &= \\frac{\\sigma_v^2}{\\pi G} \\frac{1}{\\xi} \\left(\\arctan \\frac{z}{\\xi} \\right)_{0}^\\infty \\\\\n",
    "            &= \\frac{\\sigma_v^2}{2G \\xi}\n",
    "\\end{align}\n",
    "$$\n",
    "\n",
    "A typical scale for this problem is\n",
    "$$\n",
    "    \\xi_0 = 4 \\pi \\left( \\frac{\\sigma_v}{c} \\right)^2 \\frac{D_L D_{LS}}{D_S}\n",
    "$$\n",
    "where $D_i$ are angular diameter distances. A more natural scale for the problem is the Einstein radius (defined here in term of the enclosed mass)\n",
    "$$\n",
    "    \\theta_E = \\sqrt{\\frac{4 G M(\\xi < \\theta_E)}{c^2} \\frac{D_{LS}}{D_L D_S}}\n",
    "$$\n",
    "\n",
    "We make the problem adimensional by using $x = \\xi / \\xi_0$, with \n",
    "$$\\Sigma_{cr} = \\frac{c^2}{4 \\pi G} \\frac{D_S}{D_L D_{LS}}$$\n",
    "\n",
    "We introduce a core radius to avoid the singularity"
   ]
  },
  {
   "cell_type": "code",
   "execution_count": 81,
   "metadata": {},
   "outputs": [],
   "source": [
    "# x should be a position tensor for an image: shape = [pixels, pixels, 2]\n",
    "\n",
    "def kappa(x, x_c=x_c):\n",
    "    x_sq = (x[..., 0]**2 + x[..., 1]**2)[..., np.newaxis]\n",
    "    return (x_sq + 2 * x_c**2) / 2 / (x_sq + x_c**2)**(3/2)\n",
    "\n",
    "def alpha(x, e, x_c):\n",
    "    r = elliptical_r(x[..., 0], x[..., 1], e)\n",
    "    out = x / np.sqrt(r**2 + x_c**2)[..., np.newaxis]\n",
    "    return out\n",
    "\n",
    "def shear_pseudovector(x, x_c, phi):\n",
    "    x_sq = (x[..., 0]**2 + x[..., 1]**2)[..., np.newaxis]\n",
    "    amp = - x_sq / 2 / (x_sq + x_c**2)**(3/2)\n",
    "    gamma_1 =  amp * np.cos(2 * phi)\n",
    "    gamma_2 = amp * np.sin(2 * phi)\n",
    "    return gamma_1, gamma_2\n",
    "\n",
    "def lens_equation(x, e, x_c=x_c):\n",
    "    y = x - alpha(x, e, x_c)\n",
    "    return y\n",
    "    \n",
    "def rotate(x, y, phi):\n",
    "    r = np.sqrt(x**2 + y**2)\n",
    "    theta = np.arctan2(y, x) - phi\n",
    "    x1 = r * np.cos(theta)\n",
    "    x2 = r * np.sin(theta)\n",
    "    return x1, x2\n",
    "\n",
    "def elliptical_r(x, y, e):\n",
    "    return np.sqrt(x**2 / (1 - e) + y**2 * (1 - e))\n",
    "\n",
    "def source_image(x0, y0, e, phi, sigma):\n",
    "    x = np.linspace(-1, 1, pixels) * src_length\n",
    "    xx, yy = np.meshgrid(x, x)\n",
    "    xx, yy = rotate(xx, yy, phi)\n",
    "    r = elliptical_r(xx - x0, yy - y0, e)\n",
    "    image = np.exp(-0.5 * r**2 / sigma**2)\n",
    "    image /= image.sum()\n",
    "    return image, xx, yy, x\n",
    "    "
   ]
  },
  {
   "cell_type": "code",
   "execution_count": 82,
   "metadata": {},
   "outputs": [
    {
     "data": {
      "text/plain": [
       "Text(0.5, 1.0, 'Lensed image')"
      ]
     },
     "execution_count": 82,
     "metadata": {},
     "output_type": "execute_result"
    },
    {
     "data": {
      "image/png": "[encoded data removed]",
      "text/plain": [
       "<Figure size 576x288 with 2 Axes>"
      ]
     },
     "metadata": {
      "needs_background": "light"
     },
     "output_type": "display_data"
    }
   ],
   "source": [
    "x0 = 0.3\n",
    "y0 = 0\n",
    "e = 0.4\n",
    "phi = 0\n",
    "sigma = 0.2\n",
    "fig, (ax1, ax2) = plt.subplots(1, 2, figsize=(8, 4))\n",
    "image, x, y, _x = source_image(x0, y0, e, phi, sigma)\n",
    "\n",
    "positions = np.column_stack([x.ravel(), y.ravel()])\n",
    "\n",
    "out = lens_equation(np.stack([x, y], -1), e)\n",
    "x_l, y_l = [out[..., i] for i in range(2)]\n",
    "lensed_image = griddata(positions, image.ravel(), (x_l.ravel(), y_l.ravel())).reshape([pixels, pixels])\n",
    "\n",
    "ax1.imshow(image, origin=\"lower\", cmap=\"hot\")\n",
    "ax2.imshow(lensed_image, cmap=\"hot\", origin=\"lower\")\n",
    "ax1.set_title(\"source\")\n",
    "ax2.set_title(\"Lensed image\")"
   ]
  },
  {
   "cell_type": "code",
   "execution_count": 83,
   "metadata": {},
   "outputs": [
    {
     "data": {
      "text/plain": [
       "[<matplotlib.lines.Line2D at 0x7f44b70eb5b0>]"
      ]
     },
     "execution_count": 83,
     "metadata": {},
     "output_type": "execute_result"
    },
    {
     "data": {
      "image/png": "[encoded data removed]",
      "text/plain": [
       "<Figure size 576x288 with 2 Axes>"
      ]
     },
     "metadata": {
      "needs_background": "light"
     },
     "output_type": "display_data"
    }
   ],
   "source": [
    "fig, (ax1, ax2) = plt.subplots(1, 2, figsize=(8, 4))\n",
    "ax1.plot(x.ravel()[::100], y.ravel()[::100], \"k.\")\n",
    "ax2.plot(x_l.ravel()[::100], y_l.ravel()[::100], \"k.\")"
   ]
  },
  {
   "cell_type": "code",
   "execution_count": null,
   "metadata": {},
   "outputs": [],
   "source": []
  }
 ],
 "metadata": {
  "kernelspec": {
   "display_name": "Python 3",
   "language": "python",
   "name": "python3"
  },
  "language_info": {
   "codemirror_mode": {
    "name": "ipython",
    "version": 3
   },
   "file_extension": ".py",
   "mimetype": "text/x-python",
   "name": "python",
   "nbconvert_exporter": "python",
   "pygments_lexer": "ipython3",
   "version": "3.8.5"
  }
 },
 "nbformat": 4,
 "nbformat_minor": 4
}
